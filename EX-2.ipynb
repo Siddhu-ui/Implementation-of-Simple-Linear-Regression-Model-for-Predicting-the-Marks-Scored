{
 "cells": [
  {
   "cell_type": "code",
   "execution_count": null,
   "metadata": {},
   "outputs": [],
   "source": [
    "import pandas as pd\n",
    "import numpy as np\n",
    "import matplotlib.pyplot as plt\n",
    "#import libraries to find mae, mse\n",
    "\n",
    "#read csv file\n",
    "df= student_scores.csv\n",
    "#displaying the content in datafile\n",
    "df.head()"
   ]
  },
  {
   "cell_type": "code",
   "execution_count": null,
   "metadata": {},
   "outputs": [],
   "source": [
    "# Segregating data to variables\n",
    "x = df[[\"X\"]]\n",
    "y = df[[\"Y\"]]\n"
   ]
  },
  {
   "cell_type": "code",
   "execution_count": null,
   "metadata": {},
   "outputs": [],
   "source": [
    "#splitting train and test data\n",
    "X-train,X_test,y_train,y_test = train_test_split(x,y,test_size=0.2,random_state=0)"
   ]
  },
  {
   "cell_type": "code",
   "execution_count": null,
   "metadata": {},
   "outputs": [],
   "source": [
    "#import linear regression model and fit the model with the data\n",
    "model = LinearRegression()\n",
    "model.fit(X_train,y_train)"
   ]
  },
  {
   "cell_type": "code",
   "execution_count": null,
   "metadata": {},
   "outputs": [],
   "source": [
    "#displaying predicted values\n",
    "y_pred = model.predict(X_test)\n",
    "print(\"Predicted Values:\\n\",y_pred)"
   ]
  },
  {
   "cell_type": "code",
   "execution_count": null,
   "metadata": {},
   "outputs": [],
   "source": [
    "#displaying actual values\n",
    "print(\"Actual Values:\\n\",y_test)"
   ]
  },
  {
   "cell_type": "code",
   "execution_count": null,
   "metadata": {},
   "outputs": [],
   "source": [
    "#graph plot for training data\n",
    "plt.scatter(X_train,y_train,color = 'blue',label = 'Training Data')\n",
    "plt.scatter(X_test,y_test,color = 'green',label = 'Test Data')\n",
    "plt.xlabel('X')\n",
    "plt.ylabel('Y') \n",
    "plt.title('Training and Test Data')\n",
    "plt.legend()\n",
    "plt.show()"
   ]
  },
  {
   "cell_type": "code",
   "execution_count": null,
   "metadata": {},
   "outputs": [],
   "source": [
    "#graph plot for test data\n",
    "\n",
    "# Graph plot for test data\n",
    "plt.scatter(X_test, y_test, color='green', label=\"Actual Test Data\")\n",
    "plt.plot(X_test, y_pred, color='red', label=\"Predicted Line\")  # or use plt.scatter for discrete dots\n",
    "plt.xlabel(\"X\")\n",
    "plt.ylabel(\"Y\")\n",
    "plt.title(\"Linear Regression - Test Data\")\n",
    "plt.legend()\n",
    "plt.show()\n"
   ]
  },
  {
   "cell_type": "code",
   "execution_count": null,
   "metadata": {},
   "outputs": [],
   "source": [
    "#find mae,mse,rmse\n",
    "\n",
    "mae = mean_absolute_error(y_test, y_pred)\n",
    "mse = mean_squared_error(y_test, y_pred)\n",
    "print(\"Mean Absolute Error:\", mae)\n",
    "print(\"Mean Squared Error:\", mse)"
   ]
  }
 ],
 "metadata": {
  "language_info": {
   "name": "python"
  }
 },
 "nbformat": 4,
 "nbformat_minor": 2
}
